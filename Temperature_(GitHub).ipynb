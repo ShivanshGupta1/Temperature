{
  "nbformat": 4,
  "nbformat_minor": 0,
  "metadata": {
    "colab": {
      "name": "Temperature (GitHub).ipynb",
      "provenance": [],
      "authorship_tag": "ABX9TyOXe+lEUbbrse5wX5aBLieC",
      "include_colab_link": true
    },
    "kernelspec": {
      "name": "python3",
      "display_name": "Python 3"
    }
  },
  "cells": [
    {
      "cell_type": "markdown",
      "metadata": {
        "id": "view-in-github",
        "colab_type": "text"
      },
      "source": [
        "<a href=\"https://colab.research.google.com/github/ShivanshGupta1/Temperature/blob/main/Temperature_(GitHub).ipynb\" target=\"_parent\"><img src=\"https://colab.research.google.com/assets/colab-badge.svg\" alt=\"Open In Colab\"/></a>"
      ]
    },
    {
      "cell_type": "code",
      "metadata": {
        "id": "W8UPDPo0yZDq"
      },
      "source": [
        "a = int(input('Temperature: '))\n",
        "if a<-273.15:\n",
        "  print('Invalid')\n",
        "if a==-273.15:\n",
        "  print('Temperature is 0')\n",
        "if a>-273.15:\n",
        "      if a<0:\n",
        "        print('Freezing')\n",
        "if a==0:\n",
        "          print('Freezing Point')\n",
        "if a>0:\n",
        "            if a<100:\n",
        "              print('Normal Range')"
      ],
      "execution_count": null,
      "outputs": []
    }
  ]
}